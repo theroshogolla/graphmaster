{
 "cells": [
  {
   "attachments": {},
   "cell_type": "markdown",
   "metadata": {},
   "source": [
    "## Deploy engines locally\n",
    "Stockfish + NNUE (Efficiently Updatable NN)\n",
    "- v15.1\n",
    "- NNUE portion was merged 25 July 2020\n",
    "- https://github.com/official-stockfish/Stockfish/wiki/Compiling-from-source\n",
    "\n",
    "Leela Chess Zero (Lc0) v0.29\n",
    "- open-source engine using NN\n",
    "- https://github.com/LeelaChessZero/lc0/blob/master/README.md#building-and-running-lc0\n"
   ]
  },
  {
   "cell_type": "code",
   "execution_count": 1,
   "metadata": {},
   "outputs": [],
   "source": [
    "import chess\n",
    "import chess.engine"
   ]
  },
  {
   "cell_type": "code",
   "execution_count": 4,
   "metadata": {},
   "outputs": [
    {
     "name": "stderr",
     "output_type": "stream",
     "text": [
      "<UciProtocol (pid=3927386)>: stderr >> \u001b[1m\u001b[31m       _\n",
      "<UciProtocol (pid=3927386)>: stderr >> |   _ | |\n",
      "<UciProtocol (pid=3927386)>: stderr >> |_ |_ |_|\u001b[0m v0.29.0 built Apr  6 2023\n",
      "<UciProtocol (pid=3927386)>: stderr >> Found pb network file: /home/asy51/repos/lc0/build/release/get_network?sha=600469c425eaf7397138f5f9edc18f26dfaf9791f365f71ebc52a419ed24e9f2\n"
     ]
    },
    {
     "name": "stdout",
     "output_type": "stream",
     "text": [
      "1\r"
     ]
    },
    {
     "name": "stderr",
     "output_type": "stream",
     "text": [
      "<UciProtocol (pid=3927386)>: stderr >> Creating backend [eigen]...\n",
      "<UciProtocol (pid=3927386)>: stderr >> Using Eigen version 3.3.7\n",
      "<UciProtocol (pid=3927386)>: stderr >> Eigen max batch size is 256.\n"
     ]
    },
    {
     "name": "stdout",
     "output_type": "stream",
     "text": [
      "64\r"
     ]
    }
   ],
   "source": [
    "STOCKFISH_BIN = '/home/asy51/repos/Stockfish-sf_15.1/src/stockfish'\n",
    "LC0_BIN = '/home/asy51/repos/lc0/build/release/lc0'\n",
    "\n",
    "stockfish = chess.engine.SimpleEngine.popen_uci(STOCKFISH_BIN)\n",
    "lc0 = chess.engine.SimpleEngine.popen_uci(LC0_BIN)\n",
    "\n",
    "board = chess.Board()\n",
    "while not board.is_game_over():\n",
    "    engine = stockfish if board.turn else lc0\n",
    "    result = engine.play(board, chess.engine.Limit(time=0.1))\n",
    "    board.push(result.move)\n",
    "    # display(board)\n",
    "    # if input() == 'q': break\n",
    "    print(len(board.move_stack), end='\\r')\n",
    "stockfish.quit()\n",
    "lc0.quit()"
   ]
  },
  {
   "cell_type": "code",
   "execution_count": 11,
   "metadata": {},
   "outputs": [
    {
     "data": {
      "text/plain": [
       "'1/2-1/2'"
      ]
     },
     "execution_count": 11,
     "metadata": {},
     "output_type": "execute_result"
    }
   ],
   "source": [
    "board.outcome().result()"
   ]
  },
  {
   "attachments": {},
   "cell_type": "markdown",
   "metadata": {},
   "source": [
    "## Leela Chess Zero NN Arthitecture\n",
    "From (https://lczero.org/dev/backend/nn/), based on AlphaGoZero and AlphaZero"
   ]
  }
 ],
 "metadata": {
  "kernelspec": {
   "display_name": "base",
   "language": "python",
   "name": "python3"
  },
  "language_info": {
   "codemirror_mode": {
    "name": "ipython",
    "version": 3
   },
   "file_extension": ".py",
   "mimetype": "text/x-python",
   "name": "python",
   "nbconvert_exporter": "python",
   "pygments_lexer": "ipython3",
   "version": "3.10.9"
  },
  "orig_nbformat": 4
 },
 "nbformat": 4,
 "nbformat_minor": 2
}
