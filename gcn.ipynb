{
 "cells": [
  {
   "attachments": {},
   "cell_type": "markdown",
   "metadata": {},
   "source": [
    "# Graph Convolutional Network\n",
    "Proof of concept using PyTorch Geometric (PyG)\n",
    "- Task: graph classification; given game state, who will win?\n",
    "- Data: x: (mobility graph @ my turn) y: (did i win?)\n",
    "- Network: ???"
   ]
  },
  {
   "attachments": {},
   "cell_type": "markdown",
   "metadata": {},
   "source": [
    "## Data Prep\n",
    "- Each move of games minus first 10 and last 10\n",
    "- Split into black and white (doesn't handle prediction when other player's turn)"
   ]
  },
  {
   "cell_type": "code",
   "execution_count": 1,
   "metadata": {},
   "outputs": [],
   "source": [
    "%load_ext autoreload\n",
    "%autoreload 2"
   ]
  },
  {
   "cell_type": "code",
   "execution_count": 29,
   "metadata": {},
   "outputs": [],
   "source": [
    "import torch_geometric as tg\n",
    "import chessdb\n",
    "from data import get_graphs\n",
    "import tqdm\n",
    "from torch_geometric.utils.convert import from_networkx\n",
    "import networkx as nx\n",
    "import random\n",
    "from torch.nn import Linear\n",
    "import torch.nn.functional as F\n",
    "from torch_geometric.nn import GCNConv\n",
    "from torch_geometric.nn import global_mean_pool\n",
    "import torch"
   ]
  },
  {
   "cell_type": "code",
   "execution_count": 24,
   "metadata": {},
   "outputs": [
    {
     "name": "stderr",
     "output_type": "stream",
     "text": [
      "100%|██████████| 8/8 [00:00<00:00, 18.32it/s]\n",
      "100%|██████████| 2/2 [00:00<00:00, 23.84it/s]\n"
     ]
    }
   ],
   "source": [
    "### use list -> dataloader\n",
    "df = chessdb.parse(nrows=10)\n",
    "games = df.apply(lambda row: chessdb.get_game(row), axis=1).to_list()\n",
    "random.shuffle(games)\n",
    "train_games = games[len(games) // 5:]\n",
    "test_games = games[:len(games) // 5]\n",
    "\n",
    "train_graphs = []\n",
    "for game in tqdm.tqdm(train_games):\n",
    "    for graph, win in get_graphs(game):\n",
    "        graph = from_networkx(graph)\n",
    "        graph.y = win\n",
    "        train_graphs.append(graph)\n",
    "\n",
    "test_graphs = []\n",
    "for game in tqdm.tqdm(test_games):\n",
    "    for graph, win in get_graphs(game):\n",
    "        graph = from_networkx(graph)\n",
    "        graph.y = win\n",
    "        test_graphs.append(graph)"
   ]
  },
  {
   "cell_type": "code",
   "execution_count": 25,
   "metadata": {},
   "outputs": [
    {
     "name": "stdout",
     "output_type": "stream",
     "text": [
      "Number of graphs: 285\n",
      "\n",
      "Data(edge_index=[2, 36], piece=[64], num_nodes=64, y=True)\n",
      "=============================================================\n",
      "Number of nodes: 64\n",
      "Number of edges: 36\n",
      "Average node degree: 0.56\n",
      "Has isolated nodes: True\n",
      "Has self-loops: False\n",
      "Is undirected: False\n",
      "=============================================================\n",
      "Number of training graphs: 223\n",
      "Number of test graphs: 62\n"
     ]
    }
   ],
   "source": [
    "print(f'Number of graphs: {len(train_graphs + test_graphs)}')\n",
    "\n",
    "data = train_graphs[0]  # Get the first graph object.\n",
    "\n",
    "print()\n",
    "print(data)\n",
    "print('=============================================================')\n",
    "\n",
    "# Gather some statistics about the first graph.\n",
    "print(f'Number of nodes: {data.num_nodes}')\n",
    "print(f'Number of edges: {data.num_edges}')\n",
    "print(f'Average node degree: {data.num_edges / data.num_nodes:.2f}')\n",
    "print(f'Has isolated nodes: {data.has_isolated_nodes()}')\n",
    "print(f'Has self-loops: {data.has_self_loops()}')\n",
    "print(f'Is undirected: {data.is_undirected()}')\n",
    "\n",
    "print('=============================================================')\n",
    "print(f'Number of training graphs: {len(train_graphs)}')\n",
    "print(f'Number of test graphs: {len(test_graphs)}')"
   ]
  },
  {
   "cell_type": "code",
   "execution_count": 26,
   "metadata": {},
   "outputs": [
    {
     "name": "stdout",
     "output_type": "stream",
     "text": [
      "Step 1:\n",
      "=======\n",
      "Number of graphs in the current batch: 64\n",
      "DataBatch(edge_index=[2, 2385], piece=[64], num_nodes=4096, y=[64], batch=[4096], ptr=[65])\n",
      "\n",
      "Step 2:\n",
      "=======\n",
      "Number of graphs in the current batch: 64\n",
      "DataBatch(edge_index=[2, 2456], piece=[64], num_nodes=4096, y=[64], batch=[4096], ptr=[65])\n",
      "\n",
      "Step 3:\n",
      "=======\n",
      "Number of graphs in the current batch: 64\n",
      "DataBatch(edge_index=[2, 2380], piece=[64], num_nodes=4096, y=[64], batch=[4096], ptr=[65])\n",
      "\n",
      "Step 4:\n",
      "=======\n",
      "Number of graphs in the current batch: 31\n",
      "DataBatch(edge_index=[2, 1088], piece=[31], num_nodes=1984, y=[31], batch=[1984], ptr=[32])\n",
      "\n"
     ]
    }
   ],
   "source": [
    "train_loader = tg.loader.DataLoader(train_graphs, batch_size=64, shuffle=True)\n",
    "test_loader = tg.loader.DataLoader(test_graphs, batch_size=64, shuffle=False)\n",
    "\n",
    "for step, data in enumerate(train_loader):\n",
    "    print(f'Step {step + 1}:')\n",
    "    print('=======')\n",
    "    print(f'Number of graphs in the current batch: {data.num_graphs}')\n",
    "    print(data)\n",
    "    print()"
   ]
  },
  {
   "cell_type": "code",
   "execution_count": 30,
   "metadata": {},
   "outputs": [
    {
     "name": "stdout",
     "output_type": "stream",
     "text": [
      "GCN(\n",
      "  (conv1): GCNConv(1, 64)\n",
      "  (conv2): GCNConv(64, 64)\n",
      "  (conv3): GCNConv(64, 64)\n",
      "  (lin): Linear(in_features=64, out_features=2, bias=True)\n",
      ")\n"
     ]
    }
   ],
   "source": [
    "class GCN(torch.nn.Module):\n",
    "    def __init__(self, n_node_features=1, hidden_channels=64, n_cls=2):\n",
    "        super(GCN, self).__init__()\n",
    "        self.conv1 = GCNConv(n_node_features, hidden_channels)\n",
    "        self.conv2 = GCNConv(hidden_channels, hidden_channels)\n",
    "        self.conv3 = GCNConv(hidden_channels, hidden_channels)\n",
    "        self.lin = Linear(hidden_channels, n_cls)\n",
    "\n",
    "    def forward(self, x, edge_index, batch):\n",
    "        # 1. Obtain node embeddings \n",
    "        x = self.conv1(x, edge_index)\n",
    "        x = x.relu()\n",
    "        x = self.conv2(x, edge_index)\n",
    "        x = x.relu()\n",
    "        x = self.conv3(x, edge_index)\n",
    "\n",
    "        # 2. Readout layer\n",
    "        x = global_mean_pool(x, batch)  # [batch_size, hidden_channels]\n",
    "\n",
    "        # 3. Apply a final classifier\n",
    "        x = F.dropout(x, p=0.5, training=self.training)\n",
    "        x = self.lin(x)\n",
    "        \n",
    "        return x\n",
    "\n",
    "model = GCN()\n",
    "print(model)"
   ]
  },
  {
   "cell_type": "code",
   "execution_count": null,
   "metadata": {},
   "outputs": [],
   "source": [
    "optimizer = torch.optim.Adam(model.parameters(), lr=0.01)\n",
    "criterion = torch.nn.CrossEntropyLoss()\n",
    "\n",
    "def train():\n",
    "    model.train()\n",
    "\n",
    "    for data in train_loader:  # Iterate in batches over the training dataset.\n",
    "         out = model(data.x, data.edge_index, data.batch)  # Perform a single forward pass.\n",
    "         loss = criterion(out, data.y)  # Compute the loss.\n",
    "         loss.backward()  # Derive gradients.\n",
    "         optimizer.step()  # Update parameters based on gradients.\n",
    "         optimizer.zero_grad()  # Clear gradients.\n",
    "\n",
    "def test(loader):\n",
    "     model.eval()\n",
    "\n",
    "     correct = 0\n",
    "     for data in loader:  # Iterate in batches over the training/test dataset.\n",
    "         out = model(data.x, data.edge_index, data.batch)  \n",
    "         pred = out.argmax(dim=1)  # Use the class with highest probability.\n",
    "         correct += int((pred == data.y).sum())  # Check against ground-truth labels.\n",
    "     return correct / len(loader.dataset)  # Derive ratio of correct predictions.\n",
    "\n",
    "\n",
    "for epoch in range(1, 171):\n",
    "    train()\n",
    "    train_acc = test(train_loader)\n",
    "    test_acc = test(test_loader)\n",
    "    print(f'Epoch: {epoch:03d}, Train Acc: {train_acc:.4f}, Test Acc: {test_acc:.4f}')"
   ]
  },
  {
   "cell_type": "code",
   "execution_count": null,
   "metadata": {},
   "outputs": [],
   "source": [
    "# ### torch_geometric.data.InMemoryDataset or Dataset\n",
    "# FPATH = '/home/asy51/repos/graphmaster/dataset/all_with_filtered_anotations_since1998.txt'\n",
    "# class ChessDataset(tg.data.Dataset):\n",
    "#     def __init__(self, root, transform=None, pre_transform=None, pre_filter=None):\n",
    "#         super().__init__(root, transform, pre_transform, pre_filter)\n",
    "#         self.data, self.slices = torch.load(self.processed_paths[0])\n",
    "\n",
    "#     @property\n",
    "#     def raw_file_names(self):\n",
    "#         return [FPATH]\n",
    "\n",
    "#     @property\n",
    "#     def processed_file_names(self):\n",
    "#         return ['data.pt']\n",
    "\n",
    "#     def download(self):\n",
    "#         # Download to `self.raw_dir`.\n",
    "#         download_url(url, self.raw_dir)\n",
    "#         ...\n",
    "\n",
    "#     def process(self):\n",
    "#         # Read data into huge `Data` list.\n",
    "#         data_list = [...]\n",
    "\n",
    "#         if self.pre_filter is not None:\n",
    "#             data_list = [data for data in data_list if self.pre_filter(data)]\n",
    "\n",
    "#         if self.pre_transform is not None:\n",
    "#             data_list = [self.pre_transform(data) for data in data_list]\n",
    "\n",
    "#         data, slices = self.collate(data_list)\n",
    "#         torch.save((data, slices), self.processed_paths[0])"
   ]
  }
 ],
 "metadata": {
  "kernelspec": {
   "display_name": "base",
   "language": "python",
   "name": "python3"
  },
  "language_info": {
   "codemirror_mode": {
    "name": "ipython",
    "version": 3
   },
   "file_extension": ".py",
   "mimetype": "text/x-python",
   "name": "python",
   "nbconvert_exporter": "python",
   "pygments_lexer": "ipython3",
   "version": "3.10.9"
  },
  "orig_nbformat": 4
 },
 "nbformat": 4,
 "nbformat_minor": 2
}
